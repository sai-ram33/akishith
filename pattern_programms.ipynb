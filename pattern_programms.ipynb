{
 "cells": [
  {
   "cell_type": "code",
   "execution_count": 1,
   "id": "46395b94-d5a5-46d1-bd27-9fb8fe299296",
   "metadata": {},
   "outputs": [],
   "source": [
    "#few patterns in python!!!"
   ]
  },
  {
   "cell_type": "code",
   "execution_count": 2,
   "id": "f7ce1e54-2c7c-419e-85f9-8da2799c05f3",
   "metadata": {},
   "outputs": [
    {
     "name": "stdin",
     "output_type": "stream",
     "text": [
      "enter the range:  5\n"
     ]
    },
    {
     "name": "stdout",
     "output_type": "stream",
     "text": [
      "*\n",
      "**\n",
      "***\n",
      "****\n",
      "*****\n"
     ]
    }
   ],
   "source": [
    "#right angled triangled programm\n",
    "n=int(input(\"enter the range: \"))  # for getting range for rows\n",
    "for rows in range(1,n+1):  # for loop for rows\n",
    "    for cols in range(1,rows+1):  # for loop for columns\n",
    "        print(\"*\",end=\"\")\n",
    "    print()"
   ]
  },
  {
   "cell_type": "code",
   "execution_count": 6,
   "id": "1dfc873f-55b6-493f-8d3b-9adbbf095198",
   "metadata": {},
   "outputs": [
    {
     "name": "stdin",
     "output_type": "stream",
     "text": [
      "enter the range:  5\n"
     ]
    },
    {
     "name": "stdout",
     "output_type": "stream",
     "text": [
      "*****\n",
      "****\n",
      "***\n",
      "**\n",
      "*\n"
     ]
    }
   ],
   "source": [
    "#inverted-right angled triangle programm\n",
    "n=int(input(\"enter the range: \"))\n",
    "for rows in range(1,n+1):\n",
    "    for cols in range(1,n-rows+2):\n",
    "        print(\"*\",end=\"\")\n",
    "    print()"
   ]
  },
  {
   "cell_type": "code",
   "execution_count": 12,
   "id": "75625555-2b1e-4107-b87e-d1c8dbc6f534",
   "metadata": {},
   "outputs": [
    {
     "name": "stdin",
     "output_type": "stream",
     "text": [
      "enter the range:  5\n"
     ]
    },
    {
     "name": "stdout",
     "output_type": "stream",
     "text": [
      "    *\n",
      "   **\n",
      "  ***\n",
      " ****\n",
      "*****\n"
     ]
    }
   ],
   "source": [
    "#right angle triangle programm in opposite\n",
    "n=int(input(\"enter the range: \"))\n",
    "for rows in range(1,n+1):\n",
    "    for spaces in range(n-rows):\n",
    "        print(\" \",end=\"\")\n",
    "    for cols in range(1,rows+1):\n",
    "        print(\"*\",end=\"\")\n",
    "    print()"
   ]
  },
  {
   "cell_type": "code",
   "execution_count": 13,
   "id": "9eb833fc-8d25-430a-bda3-5c6215ac007c",
   "metadata": {},
   "outputs": [
    {
     "name": "stdin",
     "output_type": "stream",
     "text": [
      "enter the range:  5\n"
     ]
    },
    {
     "name": "stdout",
     "output_type": "stream",
     "text": [
      "1\n",
      "22\n",
      "333\n",
      "4444\n",
      "55555\n"
     ]
    }
   ],
   "source": [
    "#right angle triangle programm using numbers\n",
    "n=int(input(\"enter the range: \"))\n",
    "for rows in range(1,n+1):\n",
    "    for cols in range(1,rows+1):\n",
    "        print(rows,end=\"\")\n",
    "    print()"
   ]
  },
  {
   "cell_type": "code",
   "execution_count": 14,
   "id": "3df24d0a-a078-4235-95f5-57c56e55f910",
   "metadata": {},
   "outputs": [
    {
     "name": "stdin",
     "output_type": "stream",
     "text": [
      "enter the range:  5\n"
     ]
    },
    {
     "name": "stdout",
     "output_type": "stream",
     "text": [
      "1\n",
      "12\n",
      "123\n",
      "1234\n",
      "12345\n"
     ]
    }
   ],
   "source": [
    "#right angle triangle programm using numbers\n",
    "n=int(input(\"enter the range: \"))\n",
    "for rows in range(1,n+1):\n",
    "    for cols in range(1,rows+1):\n",
    "        print(cols,end=\"\")\n",
    "    print()"
   ]
  },
  {
   "cell_type": "code",
   "execution_count": 18,
   "id": "252555d3-4634-4066-8a81-123eda05894a",
   "metadata": {},
   "outputs": [
    {
     "name": "stdin",
     "output_type": "stream",
     "text": [
      "enter the range:  5\n"
     ]
    },
    {
     "name": "stdout",
     "output_type": "stream",
     "text": [
      "     *\n",
      "    ***\n",
      "   *****\n",
      "  *******\n",
      " *********\n"
     ]
    }
   ],
   "source": [
    "#pyramid pattern\n",
    "n=int(input(\"enter the range: \"))\n",
    "for rows in range(1,n+1):\n",
    "    for spaces in range(n-rows+1):\n",
    "        print(\" \",end=\"\")\n",
    "    for cols in range(2*rows-1):\n",
    "        print(\"*\",end=\"\")\n",
    "    print()"
   ]
  },
  {
   "cell_type": "code",
   "execution_count": 19,
   "id": "78402f4e-af41-4c27-bf41-f69ad042400d",
   "metadata": {},
   "outputs": [
    {
     "name": "stdin",
     "output_type": "stream",
     "text": [
      "enter the range:  5\n"
     ]
    },
    {
     "name": "stdout",
     "output_type": "stream",
     "text": [
      "     *\n",
      "    ***\n",
      "   *****\n",
      "  *******\n",
      " *********\n",
      "  *******\n",
      "   *****\n",
      "    ***\n",
      "     *\n"
     ]
    }
   ],
   "source": [
    "#diamond pattern\n",
    "#pyramid pattern\n",
    "n=int(input(\"enter the range: \"))\n",
    "for rows in range(1,n+1):\n",
    "    for spaces in range(n-rows+1):\n",
    "        print(\" \",end=\"\")\n",
    "    for cols in range(2*rows-1):\n",
    "        print(\"*\",end=\"\")\n",
    "    print()\n",
    "for rows in range(n-1,0,-1):\n",
    "    for spaces in range(n-rows+1):\n",
    "        print(\" \",end=\"\")\n",
    "    for cols in range(2*rows-1):\n",
    "        print(\"*\",end=\"\")\n",
    "    print()\n"
   ]
  },
  {
   "cell_type": "code",
   "execution_count": 20,
   "id": "040ca825-ae77-4379-8971-11b9122e3586",
   "metadata": {},
   "outputs": [
    {
     "name": "stdin",
     "output_type": "stream",
     "text": [
      "enter the range:  5\n"
     ]
    },
    {
     "name": "stdout",
     "output_type": "stream",
     "text": [
      "*****\n",
      "*****\n",
      "*****\n",
      "*****\n",
      "*****\n"
     ]
    }
   ],
   "source": [
    "#square patterns\n",
    "n=int(input(\"enter the range: \"))\n",
    "for rows in range(1,n+1):\n",
    "    for cols in range(1,n+1):\n",
    "        print(\"*\",end=\"\")\n",
    "    print()"
   ]
  },
  {
   "cell_type": "code",
   "execution_count": 26,
   "id": "a0788eab-a357-4473-84ce-cb48f70c426c",
   "metadata": {
    "scrolled": true
   },
   "outputs": [
    {
     "name": "stdin",
     "output_type": "stream",
     "text": [
      "enter the range:  5\n"
     ]
    },
    {
     "name": "stdout",
     "output_type": "stream",
     "text": [
      "* * * * * \n",
      "*       * \n",
      "*       * \n",
      "*       * \n",
      "* * * * * \n"
     ]
    }
   ],
   "source": [
    "#hollow square patterns\n",
    "n=int(input(\"enter the range: \"))\n",
    "for rows in range(1,n+1):\n",
    "    for cols in range(1,n+1):\n",
    "        if rows==1 or rows==n or cols==1 or cols==n:\n",
    "            print(\"*\",end=\" \")\n",
    "        else:\n",
    "            print(\"  \",end=\"\")\n",
    "    print()"
   ]
  },
  {
   "cell_type": "code",
   "execution_count": null,
   "id": "81d22947-86c7-433c-9c86-485c2d405768",
   "metadata": {},
   "outputs": [],
   "source": []
  }
 ],
 "metadata": {
  "kernelspec": {
   "display_name": "Python 3 (ipykernel)",
   "language": "python",
   "name": "python3"
  },
  "language_info": {
   "codemirror_mode": {
    "name": "ipython",
    "version": 3
   },
   "file_extension": ".py",
   "mimetype": "text/x-python",
   "name": "python",
   "nbconvert_exporter": "python",
   "pygments_lexer": "ipython3",
   "version": "3.12.7"
  }
 },
 "nbformat": 4,
 "nbformat_minor": 5
}
