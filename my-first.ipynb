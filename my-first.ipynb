{
 "cells": [
  {
   "cell_type": "code",
   "execution_count": 1,
   "id": "c6151447-6a29-4a19-b6cf-c7debcdc155f",
   "metadata": {},
   "outputs": [
    {
     "name": "stdout",
     "output_type": "stream",
     "text": [
      "this is my first programm\n"
     ]
    }
   ],
   "source": [
    "print(\"this is my first programm\")"
   ]
  },
  {
   "cell_type": "code",
   "execution_count": null,
   "id": "9db4febd-bae1-4ca1-be66-d447455bb9dc",
   "metadata": {},
   "outputs": [],
   "source": [
    "import numpy as np\n",
    "from scipy import stats \n",
    "data=(2,3,5,2,5,7,5,6)\n",
    "mean=np.mean(data)\n",
    "median=np.median(data)\n",
    "standard_deviation=np.std_dev(data)\n",
    "print(mean)\n",
    "print(median)\n",
    "print(standard_deviation)"
   ]
  },
  {
   "cell_type": "code",
   "execution_count": null,
   "id": "7769d241-0ce3-443f-a134-d4501ebce262",
   "metadata": {},
   "outputs": [],
   "source": []
  }
 ],
 "metadata": {
  "kernelspec": {
   "display_name": "Python 3 (ipykernel)",
   "language": "python",
   "name": "python3"
  },
  "language_info": {
   "codemirror_mode": {
    "name": "ipython",
    "version": 3
   },
   "file_extension": ".py",
   "mimetype": "text/x-python",
   "name": "python",
   "nbconvert_exporter": "python",
   "pygments_lexer": "ipython3",
   "version": "3.12.7"
  }
 },
 "nbformat": 4,
 "nbformat_minor": 5
}
