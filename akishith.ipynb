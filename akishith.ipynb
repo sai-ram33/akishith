{
 "cells": [
  {
   "cell_type": "code",
   "execution_count": null,
   "id": "4e42689c-a360-4b68-8ee8-6b8681c914ba",
   "metadata": {},
   "outputs": [],
   "source": [
    "dict={}\n",
    "n=int(input(\"enter the range: \"))\n",
    "for i in range(1,n+1):\n",
    "    key=input(\"enter the key: \")\n",
    "    value=input(\"enter the value: \")\n",
    "    dict[key]=value\n",
    "print(dict)\n",
    "substr=input(\"enter the substring: \")\n",
    "if substr in dict:\n",
    "    print(\"substring is avaliable in dictionary!!!\")\n",
    "else:\n",
    "    print(\"substring is not available in dictionary!!!\")"
   ]
  },
  {
   "cell_type": "code",
   "execution_count": null,
   "id": "15c798bd-7457-4fa7-9ad5-784450f842ff",
   "metadata": {},
   "outputs": [],
   "source": []
  }
 ],
 "metadata": {
  "kernelspec": {
   "display_name": "Python 3 (ipykernel)",
   "language": "python",
   "name": "python3"
  },
  "language_info": {
   "codemirror_mode": {
    "name": "ipython",
    "version": 3
   },
   "file_extension": ".py",
   "mimetype": "text/x-python",
   "name": "python",
   "nbconvert_exporter": "python",
   "pygments_lexer": "ipython3",
   "version": "3.12.7"
  }
 },
 "nbformat": 4,
 "nbformat_minor": 5
}
