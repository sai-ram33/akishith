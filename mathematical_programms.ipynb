{
 "cells": [
  {
   "cell_type": "code",
   "execution_count": 1,
   "id": "3bb4ec43-d971-49e5-b2ff-0f8d8a1e84e1",
   "metadata": {},
   "outputs": [],
   "source": [
    "#some mathematical programms"
   ]
  },
  {
   "cell_type": "code",
   "execution_count": 2,
   "id": "d1e0e3bc-8761-45af-84c7-b9e3c5ad979e",
   "metadata": {},
   "outputs": [
    {
     "name": "stdin",
     "output_type": "stream",
     "text": [
      "enter the number:  5\n"
     ]
    },
    {
     "name": "stdout",
     "output_type": "stream",
     "text": [
      "120\n"
     ]
    }
   ],
   "source": [
    "#factorial of given number\n",
    "n=int(input(\"enter the number: \"))\n",
    "fact=1\n",
    "for i in range(1,n+1):\n",
    "    fact=fact*i\n",
    "print(fact)"
   ]
  },
  {
   "cell_type": "code",
   "execution_count": 15,
   "id": "3d231d9e-436e-415f-b309-d3706f17a204",
   "metadata": {},
   "outputs": [
    {
     "name": "stdin",
     "output_type": "stream",
     "text": [
      "enter the numbers:  153\n"
     ]
    },
    {
     "name": "stdout",
     "output_type": "stream",
     "text": [
      "armstrong number!!!\n"
     ]
    }
   ],
   "source": [
    "#armstrong number\n",
    "n=int(input(\"enter the numbers: \"))\n",
    "temp=n\n",
    "sum=0\n",
    "while n>0:\n",
    "    n1=n%10\n",
    "    sum=sum+n1*n1*n1\n",
    "    n//=10\n",
    "if temp==sum:\n",
    "    print(\"armstrong number!!!\")\n",
    "else:\n",
    "\n",
    "    print(\"not a armstrong number!!!\")"
   ]
  },
  {
   "cell_type": "code",
   "execution_count": 13,
   "id": "a567ca79-a626-4413-aa9c-051c5319b0fc",
   "metadata": {
    "scrolled": true
   },
   "outputs": [
    {
     "name": "stdin",
     "output_type": "stream",
     "text": [
      "enter the number:  111\n"
     ]
    },
    {
     "name": "stdout",
     "output_type": "stream",
     "text": [
      "111\n",
      "palindrome!!!\n"
     ]
    }
   ],
   "source": [
    "#palindrome progrmm\n",
    "n=input(\"enter the number: \")\n",
    "reverse=n[::-1]\n",
    "print(reverse)\n",
    "if reverse==n:\n",
    "    print(\"palindrome!!!\")\n",
    "else:\n",
    "    print(\"not a palindrome!!!\")"
   ]
  },
  {
   "cell_type": "code",
   "execution_count": 37,
   "id": "62baa151-6007-42d4-bcc3-8e817720399b",
   "metadata": {},
   "outputs": [
    {
     "name": "stdin",
     "output_type": "stream",
     "text": [
      "enter the number:  6\n"
     ]
    },
    {
     "name": "stdout",
     "output_type": "stream",
     "text": [
      "perfect number!!!\n"
     ]
    }
   ],
   "source": [
    "#perfect number\n",
    "n=int(input(\"enter the number: \"))\n",
    "perfect=0\n",
    "for i in range(1,n):\n",
    "    divisors=n%i\n",
    "    if divisors==0:\n",
    "        perfect+=i\n",
    "if perfect==n:\n",
    "    print(\"perfect number!!!\")\n",
    "else:\n",
    "    print(\"not a perfect number!!!\")"
   ]
  },
  {
   "cell_type": "code",
   "execution_count": 43,
   "id": "00d67760-a227-4c73-b4c3-5976de598efa",
   "metadata": {},
   "outputs": [
    {
     "name": "stdin",
     "output_type": "stream",
     "text": [
      "enter the range:  7\n"
     ]
    },
    {
     "name": "stdout",
     "output_type": "stream",
     "text": [
      "0 1 1 2 3 5 8 "
     ]
    }
   ],
   "source": [
    "#fibonacii series\n",
    "n=int(input(\"enter the range: \"))\n",
    "a=0\n",
    "b=1\n",
    "print(a,b,end=\" \")\n",
    "for i in range(n-2):\n",
    "    c=a+b\n",
    "    print(c,end=\" \")\n",
    "    a,b=b,c"
   ]
  },
  {
   "cell_type": "code",
   "execution_count": 46,
   "id": "876d6480-090f-446e-83de-107345c1f528",
   "metadata": {},
   "outputs": [
    {
     "name": "stdin",
     "output_type": "stream",
     "text": [
      "enter the number:  785\n"
     ]
    },
    {
     "name": "stdout",
     "output_type": "stream",
     "text": [
      "20\n"
     ]
    }
   ],
   "source": [
    "#sum of digits\n",
    "n=int(input(\"enter the number: \"))\n",
    "sum=0\n",
    "for i in range(1,n+1):\n",
    "    s=n%10\n",
    "    sum+=s\n",
    "    n//=10\n",
    "print(sum)"
   ]
  },
  {
   "cell_type": "code",
   "execution_count": 48,
   "id": "199f253c-73ff-4122-875f-cfc424e07099",
   "metadata": {},
   "outputs": [
    {
     "name": "stdin",
     "output_type": "stream",
     "text": [
      "enter the number:  5\n"
     ]
    },
    {
     "name": "stdout",
     "output_type": "stream",
     "text": [
      "15\n"
     ]
    }
   ],
   "source": [
    "#sum of first n natural numbers\n",
    "n=int(input(\"enter the number: \"))\n",
    "sum=0\n",
    "for i in range(1,n+1):\n",
    "    sum+=i\n",
    "print(sum)"
   ]
  },
  {
   "cell_type": "code",
   "execution_count": 54,
   "id": "fb5f1684-e115-47fb-af53-1f0e718527d5",
   "metadata": {},
   "outputs": [
    {
     "name": "stdin",
     "output_type": "stream",
     "text": [
      "enter the number:  6\n"
     ]
    },
    {
     "name": "stdout",
     "output_type": "stream",
     "text": [
      "not a prime number!!!\n"
     ]
    }
   ],
   "source": [
    "#prime number programm\n",
    "n=int(input(\"enter the number: \"))\n",
    "count=0\n",
    "for i in range(1,n+1):\n",
    "    divisor=n%i\n",
    "    if divisor==0:\n",
    "        count+=1\n",
    "if count==2:\n",
    "    print(\"prime number!!!\")\n",
    "else:\n",
    "    print(\"not a prime number!!!\")"
   ]
  }
 ],
 "metadata": {
  "kernelspec": {
   "display_name": "Python 3 (ipykernel)",
   "language": "python",
   "name": "python3"
  },
  "language_info": {
   "codemirror_mode": {
    "name": "ipython",
    "version": 3
   },
   "file_extension": ".py",
   "mimetype": "text/x-python",
   "name": "python",
   "nbconvert_exporter": "python",
   "pygments_lexer": "ipython3",
   "version": "3.12.7"
  }
 },
 "nbformat": 4,
 "nbformat_minor": 5
}
