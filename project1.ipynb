{
 "cells": [
  {
   "cell_type": "code",
   "execution_count": null,
   "id": "413738cb-8409-4d37-9d61-7a2f96e7763c",
   "metadata": {},
   "outputs": [],
   "source": [
    "n=int(input(\"enter the range: \"))\n",
    "l=[]\n",
    "for i in range(1,n+1):\n",
    "    x=input(\"enter the value: \")\n",
    "    l.append(x)\n",
    "print(l)"
   ]
  },
  {
   "cell_type": "code",
   "execution_count": 1,
   "id": "54482e5d-0a65-49c6-95a7-25cb648f0521",
   "metadata": {},
   "outputs": [
    {
     "name": "stdout",
     "output_type": "stream",
     "text": [
      "(1, 2, 3, 4, 'sai')\n",
      "if you want any operations select that option: \n",
      "1.add the elements\n",
      "2.remove the elements\n",
      "3.check length\n",
      "4.get max\n",
      "5.get min\n",
      "6.get index\n",
      "7.exit\n"
     ]
    },
    {
     "name": "stdin",
     "output_type": "stream",
     "text": [
      "enter the choice:  1\n",
      "how many values are add:  5\n",
      "enter the value:  5\n",
      "enter the value:  Akishith\n",
      "enter the value:  Sridhrish\n",
      "enter the value:  chinnari\n",
      "enter the value:  1\n"
     ]
    },
    {
     "name": "stdout",
     "output_type": "stream",
     "text": [
      "(1, 2, 3, 4, 'sai', '5', 'Akishith', 'Sridhrish', 'chinnari', '1')\n"
     ]
    }
   ],
   "source": [
    "t=(1,2,3,4,\"sai\")\n",
    "print(t)\n",
    "print(\"if you want any operations select that option: \")\n",
    "print(\"1.add the elements\")\n",
    "print(\"2.remove the elements\")\n",
    "print(\"3.check length\")\n",
    "print(\"4.get max\")\n",
    "print(\"5.get min\")\n",
    "print(\"6.get index\")\n",
    "print(\"7.exit\")\n",
    "choice=int(input(\"enter the choice: \"))\n",
    "match choice:\n",
    "    case 1:\n",
    "        n=int(input(\"how many values are add: \"))\n",
    "        t=list(t)\n",
    "        for i in range(1,n+1):\n",
    "            x=input(\"enter the value: \")\n",
    "            t.append(x)\n",
    "        z=tuple(t)\n",
    "        print(z)\n",
    "    case 2:\n",
    "        n=int(input(\"how many values you want to remove: \"))\n",
    "        t=list(t)\n",
    "        for i in range(1,n+1):\n",
    "            y=input(\"enter the value: \")\n",
    "            if y.isdigit():\n",
    "                y=int(y)\n",
    "            if y in z:\n",
    "                t.remove(y)\n",
    "            else:\n",
    "                print(f\"{y} is not found\")\n",
    "        s=tuple(t)\n",
    "        print(s)\n",
    "    case 3:\n",
    "        print(len(t))\n",
    "    case 4:\n",
    "        try:\n",
    "            print(max(t))\n",
    "        except TypeError:\n",
    "            print(\"cannot find max value between str and int!!!\")\n",
    "    case 5:\n",
    "        try:\n",
    "            print(min(t))\n",
    "        except TypeError:\n",
    "            print(\"cannot find min value between str and int!!!\")\n",
    "    case 6:\n",
    "        x=input(\"enter the value to find the index: \")\n",
    "        if x.isdigit():\n",
    "            x=int(x)\n",
    "        if x in t:\n",
    "            print(t.index(x))\n",
    "        else:\n",
    "            print(\"not found!\")\n",
    "    case 7:\n",
    "        print(\"the programm will terminated!!!\")\n",
    "    case 8:\n",
    "        print(\"enter the valide option!!!\")"
   ]
  },
  {
   "cell_type": "code",
   "execution_count": null,
   "id": "40eacaa3-3c2f-4c74-a0e9-5c5857e5dba7",
   "metadata": {},
   "outputs": [],
   "source": [
    "s={1,2,3,4,5,\"sai\"}\n",
    "print(s)\n",
    "#while True:\n",
    "print(\"if you want any operations select that option: \")\n",
    "print(\"1.add the elements\")\n",
    "print(\"2.remove the elements\")\n",
    "print(\"3.check length\")\n",
    "print(\"4.get max\")\n",
    "print(\"5.get min\")\n",
    "print(\"6.get index\")\n",
    "print(\"7.exit\")\n",
    "choice=int(input(\"enter the option: \"))\n",
    "match choice:\n",
    "    case 1:\n",
    "        n=int(input(\"how many values you want to add: \"))\n",
    "        for i in range(1,n+1):\n",
    "            x=input(\"enter the value: \")\n",
    "            if x.isdigit():\n",
    "                x=int(x)\n",
    "                s.add(x)\n",
    "            else:\n",
    "                s.add(x)\n",
    "        print(s)\n",
    "    case 2:\n",
    "        n=int(input(\"how many values you want to remove: \"))\n",
    "        for i in range(1,n+1):\n",
    "            x=input(\"enter the value: \")\n",
    "            if x.isdigit():\n",
    "                x=int(x)\n",
    "                s.remove(x)\n",
    "            else:\n",
    "                s.remove(x)\n",
    "        print(s)\n",
    "    case 3:\n",
    "        print(len(s))\n",
    "    case 7:\n",
    "        print(\"exiting!!!\")"
   ]
  },
  {
   "cell_type": "code",
   "execution_count": null,
   "id": "002aca40-2472-4122-9f40-876cbca19e69",
   "metadata": {},
   "outputs": [],
   "source": []
  }
 ],
 "metadata": {
  "kernelspec": {
   "display_name": "Python 3 (ipykernel)",
   "language": "python",
   "name": "python3"
  },
  "language_info": {
   "codemirror_mode": {
    "name": "ipython",
    "version": 3
   },
   "file_extension": ".py",
   "mimetype": "text/x-python",
   "name": "python",
   "nbconvert_exporter": "python",
   "pygments_lexer": "ipython3",
   "version": "3.12.7"
  }
 },
 "nbformat": 4,
 "nbformat_minor": 5
}
